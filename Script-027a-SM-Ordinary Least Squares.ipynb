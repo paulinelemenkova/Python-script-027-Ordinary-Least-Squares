{
 "cells": [
  {
   "cell_type": "code",
   "execution_count": 2,
   "metadata": {},
   "outputs": [
    {
     "name": "stdout",
     "output_type": "stream",
     "text": [
      "                            OLS Regression Results                            \n",
      "==============================================================================\n",
      "Dep. Variable:                profile   R-squared:                       0.457\n",
      "Model:                            OLS   Adj. R-squared:                  0.379\n",
      "Method:                 Least Squares   F-statistic:                     5.881\n",
      "Date:                Mon, 25 Mar 2019   Prob (F-statistic):            0.00445\n",
      "Time:                        07:39:24   Log-Likelihood:                -77.241\n",
      "No. Observations:                  25   AIC:                             162.5\n",
      "Df Residuals:                      21   BIC:                             167.4\n",
      "Df Model:                           3                                         \n",
      "Covariance Type:            nonrobust                                         \n",
      "================================================================================\n",
      "                   coef    std err          t      P>|t|      [0.025      0.975]\n",
      "--------------------------------------------------------------------------------\n",
      "Intercept       17.9305      6.362      2.819      0.010       4.701      31.160\n",
      "sedim_thick     -0.1320      0.048     -2.743      0.012      -0.232      -0.032\n",
      "igneous_volc     0.0445      0.016      2.819      0.010       0.012       0.077\n",
      "slope_angle      0.1328      0.115      1.151      0.263      -0.107       0.373\n",
      "==============================================================================\n",
      "Omnibus:                        1.669   Durbin-Watson:                   0.654\n",
      "Prob(Omnibus):                  0.434   Jarque-Bera (JB):                1.095\n",
      "Skew:                          -0.198   Prob(JB):                        0.578\n",
      "Kurtosis:                       2.054   Cond. No.                         884.\n",
      "==============================================================================\n",
      "\n",
      "Warnings:\n",
      "[1] Standard Errors assume that the covariance matrix of the errors is correctly specified.\n"
     ]
    }
   ],
   "source": [
    "# Step-1. Import libraries\n",
    "from __future__ import print_function\n",
    "import numpy as np\n",
    "import pandas as pd\n",
    "import statsmodels.api as sm\n",
    "import matplotlib.pyplot as plt\n",
    "from patsy import dmatrices\n",
    "from statsmodels.sandbox.regression.predstd import wls_prediction_std\n",
    "\n",
    "# Step-2. Load data\n",
    "import os\n",
    "os.chdir('/Users/pauline/Documents/Python')\n",
    "df = pd.read_csv(\"Tab-Morph.csv\")\n",
    "y, X = dmatrices('profile ~ sedim_thick + igneous_volc + slope_angle', \n",
    "                 data=df, return_type='dataframe')\n",
    "\n",
    "# Step-3. Fit and summary:\n",
    "mod = sm.OLS(y, X)\n",
    "res = mod.fit()\n",
    "print(res.summary())"
   ]
  },
  {
   "cell_type": "code",
   "execution_count": null,
   "metadata": {},
   "outputs": [],
   "source": []
  },
  {
   "cell_type": "code",
   "execution_count": null,
   "metadata": {},
   "outputs": [],
   "source": []
  }
 ],
 "metadata": {
  "kernelspec": {
   "display_name": "Python 3",
   "language": "python",
   "name": "python3"
  },
  "language_info": {
   "codemirror_mode": {
    "name": "ipython",
    "version": 3
   },
   "file_extension": ".py",
   "mimetype": "text/x-python",
   "name": "python",
   "nbconvert_exporter": "python",
   "pygments_lexer": "ipython3",
   "version": "3.7.2"
  }
 },
 "nbformat": 4,
 "nbformat_minor": 2
}
